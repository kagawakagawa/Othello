{
 "cells": [
  {
   "cell_type": "code",
   "execution_count": 9,
   "id": "5e6a1a7b",
   "metadata": {},
   "outputs": [],
   "source": [
    "import matplotlib.pyplot as plt\n",
    "import random\n",
    "import numpy as np\n",
    "import statistics"
   ]
  },
  {
   "cell_type": "code",
   "execution_count": 2,
   "id": "a3f5d11c",
   "metadata": {},
   "outputs": [],
   "source": [
    "with open('randomrandom.txt', 'r') as f:\n",
    "    dif_list = []\n",
    "    line = f.readline()  # 1行読む\n",
    "    while line:\n",
    "        dif_list.append(line.rstrip())  # line には改行文字も含まれているので除く\n",
    "                                    # （これだと空白文字も除かれるので注意）\n",
    "        line = f.readline()  # 次の行を読む"
   ]
  },
  {
   "cell_type": "code",
   "execution_count": 3,
   "id": "ae9d74cf",
   "metadata": {
    "scrolled": true
   },
   "outputs": [],
   "source": [
    "count = 0\n",
    "diff_list = []\n",
    "while count < len(dif_list):\n",
    "\n",
    "    if dif_list[count] != '':\n",
    "        diff_list.append(dif_list[count])\n",
    "    count += 1\n",
    "\n"
   ]
  },
  {
   "cell_type": "code",
   "execution_count": 4,
   "id": "3b5607b3",
   "metadata": {},
   "outputs": [
    {
     "name": "stdout",
     "output_type": "stream",
     "text": [
      "[8, 32, 6, 24, 24, 12, 18, 4, 10, 24, 24, 20, 4, 38, 32, 12, 8, 12, 6, 24, 4, 10, 10, 32, 26, 18, 22, 4, 14, 4, 12, 12, 18, 22, 22, 2, 2, 26, 8, 0, 12, 22, 2, 10, 2, 16, 20, 2, 10, 18, 10, 8, 4, 20, 4, 2, 0, 10, 34, 30, 36, 2, 6, 28, 8, 2, 16, 22, 14, 34, 8, 12, 12, 38, 32, 28, 10, 2, 10, 16, 26, 18, 4, 16, 8, 10, 22, 12, 14, 2, 2, 14, 0, 18, 6, 34, 20, 2, 16, 10]\n"
     ]
    }
   ],
   "source": [
    "diff_list = [int(s) for s in diff_list]\n",
    "print(diff_list)"
   ]
  },
  {
   "cell_type": "code",
   "execution_count": 5,
   "id": "364e12b3",
   "metadata": {},
   "outputs": [
    {
     "name": "stdout",
     "output_type": "stream",
     "text": [
      "100\n"
     ]
    }
   ],
   "source": [
    "print(len(diff_list))"
   ]
  },
  {
   "cell_type": "code",
   "execution_count": 6,
   "id": "c4e11777",
   "metadata": {},
   "outputs": [],
   "source": [
    "import matplotlib.pyplot as plt"
   ]
  },
  {
   "cell_type": "code",
   "execution_count": 7,
   "id": "67764e04",
   "metadata": {},
   "outputs": [
    {
     "data": {
      "text/plain": [
       "(0.0, 25.0)"
      ]
     },
     "execution_count": 7,
     "metadata": {},
     "output_type": "execute_result"
    },
    {
     "data": {
      "image/png": "[encoded data removed]",
      "text/plain": [
       "<Figure size 432x288 with 1 Axes>"
      ]
     },
     "metadata": {
      "needs_background": "light"
     },
     "output_type": "display_data"
    }
   ],
   "source": [
    "plt.hist(diff_list,rwidth = 0.8,color = 'r')\n",
    "plt.xlabel('difference')\n",
    "plt.ylabel('frequency')\n",
    "plt.xlim(0,64)\n",
    "plt.ylim(0,25)"
   ]
  },
  {
   "cell_type": "code",
   "execution_count": 398,
   "id": "7650946d",
   "metadata": {},
   "outputs": [
    {
     "name": "stdout",
     "output_type": "stream",
     "text": [
      "提案モデルvsランダム\n",
      "平均　：24.84\n",
      "標準偏差　：15.162899965162843\n",
      "分散　：229.91353535353534\n",
      "中央値　：24.0\n"
     ]
    }
   ],
   "source": [
    "from statistics import stdev,variance,median \n",
    "ave = sum(diff_list)/len(diff_list)\n",
    "std = stdev(diff_list)\n",
    "var = variance(diff_list)\n",
    "med = median(diff_list)\n",
    "print('提案モデルvsランダム')\n",
    "print('平均　：',end='')\n",
    "print(ave)\n",
    "print('標準偏差　：',end='')\n",
    "print(std)\n",
    "print('分散　：',end='')\n",
    "print(var)\n",
    "print('中央値　：',end='')\n",
    "print(med)"
   ]
  },
  {
   "cell_type": "code",
   "execution_count": 403,
   "id": "7bc68aea",
   "metadata": {},
   "outputs": [
    {
     "name": "stdout",
     "output_type": "stream",
     "text": [
      "提案モデルvs100\n",
      "平均　：25.84\n",
      "標準偏差　：12.86975940220745\n",
      "分散　：165.63070707070707\n",
      "中央値　：27.0\n"
     ]
    }
   ],
   "source": [
    "from statistics import stdev,variance,median \n",
    "ave = sum(diff_list)/len(diff_list)\n",
    "std = stdev(diff_list)\n",
    "var = variance(diff_list)\n",
    "med = median(diff_list)\n",
    "print('提案モデルvs100')\n",
    "print('平均　：',end='')\n",
    "print(ave)\n",
    "print('標準偏差　：',end='')\n",
    "print(std)\n",
    "print('分散　：',end='')\n",
    "print(var)\n",
    "print('中央値　：',end='')\n",
    "print(med)"
   ]
  },
  {
   "cell_type": "code",
   "execution_count": 408,
   "id": "be686c64",
   "metadata": {},
   "outputs": [
    {
     "name": "stdout",
     "output_type": "stream",
     "text": [
      "提案モデルvs200\n",
      "平均　：24.74\n",
      "標準偏差　：11.499336827606516\n",
      "分散　：132.23474747474748\n",
      "中央値　：24.0\n"
     ]
    }
   ],
   "source": [
    "from statistics import stdev,variance,median \n",
    "ave = sum(diff_list)/len(diff_list)\n",
    "std = stdev(diff_list)\n",
    "var = variance(diff_list)\n",
    "med = median(diff_list)\n",
    "print('提案モデルvs200')\n",
    "print('平均　：',end='')\n",
    "print(ave)\n",
    "print('標準偏差　：',end='')\n",
    "print(std)\n",
    "print('分散　：',end='')\n",
    "print(var)\n",
    "print('中央値　：',end='')\n",
    "print(med)"
   ]
  },
  {
   "cell_type": "code",
   "execution_count": 413,
   "id": "91f6c72c",
   "metadata": {},
   "outputs": [
    {
     "name": "stdout",
     "output_type": "stream",
     "text": [
      "提案モデルvs500\n",
      "平均　：25.46\n",
      "標準偏差　：12.876585908013997\n",
      "分散　：165.80646464646466\n",
      "中央値　：26.0\n"
     ]
    }
   ],
   "source": [
    "from statistics import stdev,variance,median \n",
    "ave = sum(diff_list)/len(diff_list)\n",
    "std = stdev(diff_list)\n",
    "var = variance(diff_list)\n",
    "med = median(diff_list)\n",
    "print('提案モデルvs500')\n",
    "print('平均　：',end='')\n",
    "print(ave)\n",
    "print('標準偏差　：',end='')\n",
    "print(std)\n",
    "print('分散　：',end='')\n",
    "print(var)\n",
    "print('中央値　：',end='')\n",
    "print(med)"
   ]
  },
  {
   "cell_type": "code",
   "execution_count": 214,
   "id": "ffe53d1d",
   "metadata": {},
   "outputs": [
    {
     "name": "stdout",
     "output_type": "stream",
     "text": [
      "提案モデルvs1000\n",
      "平均　：25.97\n",
      "標準偏差　：13.54413287566005\n",
      "分散　：183.44353535353537\n",
      "中央値　：27.0\n"
     ]
    }
   ],
   "source": [
    "from statistics import stdev,variance,median \n",
    "ave = sum(diff_list)/len(diff_list)\n",
    "std = stdev(diff_list)\n",
    "var = variance(diff_list)\n",
    "med = median(diff_list)\n",
    "print('提案モデルvs1000')\n",
    "print('平均　：',end='')\n",
    "print(ave)\n",
    "print('標準偏差　：',end='')\n",
    "print(std)\n",
    "print('分散　：',end='')\n",
    "print(var)\n",
    "print('中央値　：',end='')\n",
    "print(med)"
   ]
  },
  {
   "cell_type": "code",
   "execution_count": 193,
   "id": "1d9a947f",
   "metadata": {},
   "outputs": [
    {
     "name": "stdout",
     "output_type": "stream",
     "text": [
      "100vsランダム\n",
      "平均　：26.2\n",
      "標準偏差　：11.767100172287414\n",
      "分散　：138.46464646464648\n",
      "中央値　：27.0\n"
     ]
    }
   ],
   "source": [
    "from statistics import stdev,variance,median \n",
    "ave = sum(diff_list)/len(diff_list)\n",
    "std = stdev(diff_list)\n",
    "var = variance(diff_list)\n",
    "med = median(diff_list)\n",
    "print('100vsランダム')\n",
    "print('平均　：',end='')\n",
    "print(ave)\n",
    "print('標準偏差　：',end='')\n",
    "print(std)\n",
    "print('分散　：',end='')\n",
    "print(var)\n",
    "print('中央値　：',end='')\n",
    "print(med)"
   ]
  },
  {
   "cell_type": "code",
   "execution_count": 161,
   "id": "56795ca5",
   "metadata": {},
   "outputs": [
    {
     "name": "stdout",
     "output_type": "stream",
     "text": [
      "提案モデル5000vsランダム\n",
      "平均　：-10.5\n",
      "標準偏差　：13.870940309677165\n",
      "分散　：192.40298507462686\n",
      "中央値　：-10.0\n"
     ]
    }
   ],
   "source": [
    "from statistics import stdev,variance,median \n",
    "ave = sum(diff_list)/len(diff_list)\n",
    "std = stdev(diff_list)\n",
    "var = variance(diff_list)\n",
    "med = median(diff_list)\n",
    "print('提案モデル5000vsランダム')\n",
    "print('平均　：',end='')\n",
    "print(ave)\n",
    "print('標準偏差　：',end='')\n",
    "print(std)\n",
    "print('分散　：',end='')\n",
    "print(var)\n",
    "print('中央値　：',end='')\n",
    "print(med)"
   ]
  },
  {
   "cell_type": "code",
   "execution_count": 382,
   "id": "d68fd9a5",
   "metadata": {},
   "outputs": [
    {
     "name": "stdout",
     "output_type": "stream",
     "text": [
      "MCTS100vsランダム\n",
      "平均　：27.74\n",
      "標準偏差　：13.009413840940278\n",
      "分散　：169.2448484848485\n",
      "中央値　：26.0\n"
     ]
    }
   ],
   "source": [
    "ave = sum(diff_list)/len(diff_list)\n",
    "std = stdev(diff_list)\n",
    "var = variance(diff_list)\n",
    "med = median(diff_list)\n",
    "print('MCTS100vsランダム')\n",
    "print('平均　：',end='')\n",
    "print(ave)\n",
    "print('標準偏差　：',end='')\n",
    "print(std)\n",
    "print('分散　：',end='')\n",
    "print(var)\n",
    "print('中央値　：',end='')\n",
    "print(med)"
   ]
  },
  {
   "cell_type": "code",
   "execution_count": 388,
   "id": "951ff1e6",
   "metadata": {},
   "outputs": [
    {
     "name": "stdout",
     "output_type": "stream",
     "text": [
      "MCTS200vsランダム\n",
      "平均　：31.05\n",
      "標準偏差　：12.17994294325758\n",
      "分散　：148.3510101010101\n",
      "中央値　：30.0\n"
     ]
    }
   ],
   "source": [
    "ave = sum(diff_list)/len(diff_list)\n",
    "std = stdev(diff_list)\n",
    "var = variance(diff_list)\n",
    "med = median(diff_list)\n",
    "print('MCTS200vsランダム')\n",
    "print('平均　：',end='')\n",
    "print(ave)\n",
    "print('標準偏差　：',end='')\n",
    "print(std)\n",
    "print('分散　：',end='')\n",
    "print(var)\n",
    "print('中央値　：',end='')\n",
    "print(med)"
   ]
  },
  {
   "cell_type": "code",
   "execution_count": 393,
   "id": "b48ee477",
   "metadata": {},
   "outputs": [
    {
     "name": "stdout",
     "output_type": "stream",
     "text": [
      "MCTS500vsランダム\n",
      "平均　：34.47\n",
      "標準偏差　：12.031486469537613\n",
      "分散　：144.75666666666666\n",
      "中央値　：35.0\n"
     ]
    }
   ],
   "source": [
    "ave = sum(diff_list)/len(diff_list)\n",
    "std = stdev(diff_list)\n",
    "var = variance(diff_list)\n",
    "med = median(diff_list)\n",
    "print('MCTS500vsランダム')\n",
    "print('平均　：',end='')\n",
    "print(ave)\n",
    "print('標準偏差　：',end='')\n",
    "print(std)\n",
    "print('分散　：',end='')\n",
    "print(var)\n",
    "print('中央値　：',end='')\n",
    "print(med)"
   ]
  },
  {
   "cell_type": "code",
   "execution_count": 377,
   "id": "e1679e71",
   "metadata": {},
   "outputs": [
    {
     "name": "stdout",
     "output_type": "stream",
     "text": [
      "MCTS1000vsランダム\n",
      "平均　：36.27\n",
      "標準偏差　：10.277812721753318\n",
      "分散　：105.63343434343435\n",
      "中央値　：36.0\n"
     ]
    }
   ],
   "source": [
    "ave = sum(diff_list)/len(diff_list)\n",
    "std = stdev(diff_list)\n",
    "var = variance(diff_list)\n",
    "med = median(diff_list)\n",
    "print('MCTS1000vsランダム')\n",
    "print('平均　：',end='')\n",
    "print(ave)\n",
    "print('標準偏差　：',end='')\n",
    "print(std)\n",
    "print('分散　：',end='')\n",
    "print(var)\n",
    "print('中央値　：',end='')\n",
    "print(med)"
   ]
  },
  {
   "cell_type": "code",
   "execution_count": 443,
   "id": "30296022",
   "metadata": {},
   "outputs": [
    {
     "name": "stdout",
     "output_type": "stream",
     "text": [
      "提案5000vsランダム\n",
      "平均　：23.51\n",
      "標準偏差　：12.581447781667588\n",
      "分散　：158.29282828282828\n",
      "中央値　：24.0\n"
     ]
    }
   ],
   "source": [
    "ave = sum(diff_list)/len(diff_list)\n",
    "std = stdev(diff_list)\n",
    "var = variance(diff_list)\n",
    "med = median(diff_list)\n",
    "print('提案5000vsランダム')\n",
    "print('平均　：',end='')\n",
    "print(ave)\n",
    "print('標準偏差　：',end='')\n",
    "print(std)\n",
    "print('分散　：',end='')\n",
    "print(var)\n",
    "print('中央値　：',end='')\n",
    "print(med)"
   ]
  },
  {
   "cell_type": "code",
   "execution_count": 482,
   "id": "0c9f443d",
   "metadata": {},
   "outputs": [
    {
     "name": "stdout",
     "output_type": "stream",
     "text": [
      "提案5000vs1000\n",
      "平均　：24.58\n",
      "標準偏差　：13.917636511297674\n",
      "分散　：193.70060606060608\n",
      "中央値　：24.0\n"
     ]
    }
   ],
   "source": [
    "ave = sum(diff_list)/len(diff_list)\n",
    "std = stdev(diff_list)\n",
    "var = variance(diff_list)\n",
    "med = median(diff_list)\n",
    "print('提案5000vs1000')\n",
    "print('平均　：',end='')\n",
    "print(ave)\n",
    "print('標準偏差　：',end='')\n",
    "print(std)\n",
    "print('分散　：',end='')\n",
    "print(var)\n",
    "print('中央値　：',end='')\n",
    "print(med)"
   ]
  },
  {
   "cell_type": "code",
   "execution_count": 493,
   "id": "26ff29af",
   "metadata": {},
   "outputs": [
    {
     "name": "stdout",
     "output_type": "stream",
     "text": [
      "提案5000vs1000\n",
      "平均　：26.871287128712872\n",
      "標準偏差　：15.023756764762023\n",
      "分散　：225.71326732673268\n",
      "中央値　：28\n"
     ]
    }
   ],
   "source": [
    "ave = sum(diff_list)/len(diff_list)\n",
    "std = stdev(diff_list)\n",
    "var = variance(diff_list)\n",
    "med = median(diff_list)\n",
    "print('提案5000vs1000')\n",
    "print('平均　：',end='')\n",
    "print(ave)\n",
    "print('標準偏差　：',end='')\n",
    "print(std)\n",
    "print('分散　：',end='')\n",
    "print(var)\n",
    "print('中央値　：',end='')\n",
    "print(med)"
   ]
  },
  {
   "cell_type": "code",
   "execution_count": 517,
   "id": "2660e417",
   "metadata": {},
   "outputs": [
    {
     "name": "stdout",
     "output_type": "stream",
     "text": [
      "提案5000vs1000\n",
      "平均　：14.28\n",
      "標準偏差　：11.413336165391888\n",
      "分散　：130.2642424242424\n",
      "中央値　：12.0\n"
     ]
    }
   ],
   "source": [
    "ave = sum(diff_list)/len(diff_list)\n",
    "std = stdev(diff_list)\n",
    "var = variance(diff_list)\n",
    "med = median(diff_list)\n",
    "print('提案5000vs1000')\n",
    "print('平均　：',end='')\n",
    "print(ave)\n",
    "print('標準偏差　：',end='')\n",
    "print(std)\n",
    "print('分散　：',end='')\n",
    "print(var)\n",
    "print('中央値　：',end='')\n",
    "print(med)"
   ]
  },
  {
   "cell_type": "code",
   "execution_count": 10,
   "id": "8d78b125",
   "metadata": {},
   "outputs": [
    {
     "ename": "NameError",
     "evalue": "name 'stdev' is not defined",
     "output_type": "error",
     "traceback": [
      "\u001b[0;31m---------------------------------------------------------------------------\u001b[0m",
      "\u001b[0;31mNameError\u001b[0m                                 Traceback (most recent call last)",
      "Input \u001b[0;32mIn [10]\u001b[0m, in \u001b[0;36m<cell line: 2>\u001b[0;34m()\u001b[0m\n\u001b[1;32m      1\u001b[0m ave \u001b[38;5;241m=\u001b[39m \u001b[38;5;28msum\u001b[39m(diff_list)\u001b[38;5;241m/\u001b[39m\u001b[38;5;28mlen\u001b[39m(diff_list)\n\u001b[0;32m----> 2\u001b[0m std \u001b[38;5;241m=\u001b[39m \u001b[43mstdev\u001b[49m(diff_list)\n\u001b[1;32m      3\u001b[0m var \u001b[38;5;241m=\u001b[39m variance(diff_list)\n\u001b[1;32m      4\u001b[0m med \u001b[38;5;241m=\u001b[39m median(diff_list)\n",
      "\u001b[0;31mNameError\u001b[0m: name 'stdev' is not defined"
     ]
    }
   ],
   "source": [
    "ave = sum(diff_list)/len(diff_list)\n",
    "# std = stdev(diff_list)\n",
    "# var = variance(diff_list)\n",
    "# med = median(diff_list)\n",
    "print('ランダムvsランダム')\n",
    "print('平均　：',end='')\n",
    "print(ave)\n",
    "# print('標準偏差　：',end='')\n",
    "# print(std)\n",
    "# print('分散　：',end='')\n",
    "# print(var)\n",
    "# print('中央値　：',end='')\n",
    "# print(med)"
   ]
  },
  {
   "cell_type": "code",
   "execution_count": null,
   "id": "174874d8",
   "metadata": {},
   "outputs": [],
   "source": []
  }
 ],
 "metadata": {
  "kernelspec": {
   "display_name": "Python 3 (ipykernel)",
   "language": "python",
   "name": "python3"
  },
  "language_info": {
   "codemirror_mode": {
    "name": "ipython",
    "version": 3
   },
   "file_extension": ".py",
   "mimetype": "text/x-python",
   "name": "python",
   "nbconvert_exporter": "python",
   "pygments_lexer": "ipython3",
   "version": "3.9.12"
  }
 },
 "nbformat": 4,
 "nbformat_minor": 5
}
